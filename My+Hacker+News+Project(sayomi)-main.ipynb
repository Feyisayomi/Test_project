{
 "cells": [
  {
   "cell_type": "markdown",
   "metadata": {
    "collapsed": true
   },
   "source": [
    "# Hacker News Community Project\n",
    "In this project, we are working on a dataset gotten from Hacker News site. On this Site\n",
    "Users submit stories known as posts and are voted and commented upon. For the purpose of this\n",
    "project, we are interested in post whose Titles begin with Ask HN or Show HN. Users submit\n",
    "Ask HN to ask Hacker News community a specific question while Show HN posts are to show the \n",
    "Hacker News community a project, product or something interesting. The Goal of this project \n",
    "is to compare this two Posts and determine the following:\n",
    "\n",
    "1.Do Ask HN or Show HN receive more comments on average?\n",
    "\n",
    "2.Do posts created at a certain time receive more comments on average?"
   ]
  },
  {
   "cell_type": "code",
   "execution_count": 1,
   "metadata": {},
   "outputs": [
    {
     "name": "stdout",
     "output_type": "stream",
     "text": [
      "[['id', 'title', 'url', 'num_points', 'num_comments', 'author', 'created_at'], ['12224879', 'Interactive Dynamic Video', 'http://www.interactivedynamicvideo.com/', '386', '52', 'ne0phyte', '8/4/2016 11:52'], ['10975351', 'How to Use Open Source and Shut the Fuck Up at the Same Time', 'http://hueniverse.com/2016/01/26/how-to-use-open-source-and-shut-the-fuck-up-at-the-same-time/', '39', '10', 'josep2', '1/26/2016 19:30'], ['11964716', \"Florida DJs May Face Felony for April Fools' Water Joke\", 'http://www.thewire.com/entertainment/2013/04/florida-djs-april-fools-water-joke/63798/', '2', '1', 'vezycash', '6/23/2016 22:20'], ['11919867', 'Technology ventures: From Idea to Enterprise', 'https://www.amazon.com/Technology-Ventures-Enterprise-Thomas-Byers/dp/0073523429', '3', '1', 'hswarna', '6/17/2016 0:01']]\n"
     ]
    }
   ],
   "source": [
    "#import reader from csv so that we can access and extract our data\n",
    "from csv import reader\n",
    "open_file = open(\"hacker_news.csv\")\n",
    "read_file = reader(open_file)\n",
    "hn = list(read_file)\n",
    "\n",
    "print(hn[:5])"
   ]
  },
  {
   "cell_type": "code",
   "execution_count": null,
   "metadata": {
    "collapsed": true
   },
   "outputs": [],
   "source": [
    "#We removed the header from our dataset\n",
    "headers = hn[0]\n",
    "hn = hn[1:]\n",
    "print(headers)\n",
    "print(hn)"
   ]
  },
  {
   "cell_type": "code",
   "execution_count": null,
   "metadata": {
    "collapsed": true
   },
   "outputs": [],
   "source": [
    "# This Code separates post beginning with Ask HN and Show HN\n",
    "\n",
    "ask_posts = []\n",
    "show_posts = []\n",
    "other_posts = []\n",
    "\n",
    "for row in hn:\n",
    "    title = row[1]\n",
    "    title = title.lower() #convert all titles to lowercase\n",
    "    \n",
    "    if title.startswith('ask hn'):\n",
    "        ask_posts.append(row)\n",
    "        \n",
    "    elif title.startswith('show hn'):\n",
    "        show_posts.append(row)\n",
    "    else:\n",
    "        other_posts.append(row)\n",
    "        \n",
    "print(\"The number of posts in ask_posts is : \", len(ask_posts)) # to find the number of posts for each list\n",
    "print(\"The number of posts in show_posts is : \", len(show_posts))\n",
    "print(\"The number of posts in other_posts is : \", len(other_posts))"
   ]
  },
  {
   "cell_type": "code",
   "execution_count": null,
   "metadata": {
    "collapsed": true
   },
   "outputs": [],
   "source": [
    "# we want to know if either ask posts or show posts receive more comments on average\n",
    "total_ask_comments = 0\n",
    "\n",
    "\n",
    "for post in ask_posts:\n",
    "    num_comments =int(post[4])\n",
    "    total_ask_comments += num_comments\n",
    "avg_ask_comments = total_ask_comments / len(ask_posts)\n",
    "print(\"Average ask posts: \", avg_ask_comments)\n",
    "\n",
    "total_show_comments = 0\n",
    "for post in show_posts:\n",
    "    num_comments =int(post[4])\n",
    "    total_show_comments += num_comments\n",
    "avg_show_comments = total_show_comments / len(show_posts)\n",
    "print(\"Average show posts: \", avg_show_comments)\n",
    "\n",
    "    "
   ]
  },
  {
   "cell_type": "markdown",
   "metadata": {},
   "source": [
    "The result of our output has fulfilled the first goal of this project, we have been able to determine that ask posts: Ask HN receives more comments than show post: Show HN Our second goal is to detemine if a post posted at a particular time receives more comment. To do that we need to parse the our ask_ post and show_comment were created into datetime format, then we convert the dates to find posts and comments by hour."
   ]
  },
  {
   "cell_type": "code",
   "execution_count": null,
   "metadata": {
    "collapsed": true
   },
   "outputs": [],
   "source": [
    "import datetime as dt\n",
    "\n",
    "result_list = []\n",
    "\n",
    "for post in ask_posts:\n",
    "    created_at = post[6]\n",
    "    num_comments = int(post[4])\n",
    "    appended_list = [created_at, num_comments]\n",
    "    result_list.append(appended_list)\n",
    "print(result_list)\n",
    "\n",
    "counts_by_hour = {}\n",
    "comments_by_hour = {}\n",
    "\n",
    "for result in result_list:\n",
    "    h_dt = result[0]\n",
    "    h = dt.datetime.strptime(h_dt, \"%m/%d/%Y %H:%M\")\n",
    "    hour = h.strftime(\"%H\")\n",
    "    print(hour)\n",
    "    \n",
    "    if hour not in counts_by_hour:\n",
    "        counts_by_hour[hour] = 1\n",
    "        comments_by_hour[hour] = result[1]\n",
    "        \n",
    "    elif hour in counts_by_hour:\n",
    "        counts_by_hour[hour] += 1\n",
    "        comments_by_hour[hour] += result[1]\n",
    "print(\"Counts by hour is:\", counts_by_hour)\n",
    "print(\"Comments by hour is: \", comments_by_hour)"
   ]
  },
  {
   "cell_type": "markdown",
   "metadata": {},
   "source": [
    "In this next code, we are going to calculate the average comments per hour."
   ]
  },
  {
   "cell_type": "code",
   "execution_count": null,
   "metadata": {
    "collapsed": true
   },
   "outputs": [],
   "source": [
    "avg_by_hour = []\n",
    "for hour in comments_by_hour:\n",
    "    avg_by_hour.append([hour,comments_by_hour[hour] / counts_by_hour[hour]])\n",
    "    \n",
    "print(avg_by_hour)"
   ]
  },
  {
   "cell_type": "markdown",
   "metadata": {},
   "source": [
    "We have the result we need from our output above but the format is a little bit \n",
    "confusing. It is hard to identify the hour with the highest value. For better \n",
    "understanding, we will swap our average and hour so that the hour becomes the first element\n",
    "of the list while the Average becomes the second elements on the list. We will use the \n",
    "Sorted() function to sort them in descending order"
   ]
  },
  {
   "cell_type": "code",
   "execution_count": null,
   "metadata": {
    "collapsed": true
   },
   "outputs": [],
   "source": [
    "swap_avg_by_hour = []\n",
    "\n",
    "for avg in avg_by_hour:\n",
    "    f_avg = avg[1]\n",
    "    swap_avg_by_hour.append([avg[1], avg[0]])\n",
    "print(swap_avg_by_hour)\n",
    "sorted_swap = sorted(swap_avg_by_hour, reverse = True)\n",
    "print(sorted_swap)\n"
   ]
  },
  {
   "cell_type": "markdown",
   "metadata": {},
   "source": [
    "From our goal, it was stated that we want to find out if Posts created at a particular time\n",
    "receives more comments. We are going to do this in the cell below, we will loop through the first\n",
    "five lists of sorted_swap, format the hours by using datetime.strptime() constructor to\n",
    "return datetime object and then use the strftime() method to specify the format of the\n",
    "time which is hour. To format the average, we will use {:.2f} to indicate that the average\n",
    "should be rounded to two decimal places and finally, we will use the str.format() method\n",
    "to print hour and average in this format: 15:00:38.59 average comments per post."
   ]
  },
  {
   "cell_type": "code",
   "execution_count": null,
   "metadata": {
    "collapsed": true
   },
   "outputs": [],
   "source": [
    "print(\"Top 5 Hours for Ask Posts Comments\")\n",
    "\n",
    "for swap in sorted_swap[:5]:\n",
    "    average = swap[0]\n",
    "    hour = swap[1]\n",
    "    hour = dt.datetime.strptime(hour, \"%H\")\n",
    "    hour_h = hour.strftime(\"%H\")\n",
    "    final = \"{0} : {1:.2f} comments per post\".format(hour_h,average)\n",
    "    print(final)\n",
    "    "
   ]
  },
  {
   "cell_type": "markdown",
   "metadata": {},
   "source": [
    "# Conclusion\n",
    "In conclusion, the project has achieved all our goals:\n",
    "1. We have been able to determine that on the average, Ask HN posts has more comments than Show HN posts.\n",
    "2. Finally, we also discovered from the first five rows that we analysed that, Posts posted at 15:00\n",
    "receives more comments than others."
   ]
  }
 ],
 "metadata": {
  "kernelspec": {
   "display_name": "Python 3",
   "language": "python",
   "name": "python3"
  },
  "language_info": {
   "codemirror_mode": {
    "name": "ipython",
    "version": 3
   },
   "file_extension": ".py",
   "mimetype": "text/x-python",
   "name": "python",
   "nbconvert_exporter": "python",
   "pygments_lexer": "ipython3",
   "version": "3.8.5"
  }
 },
 "nbformat": 4,
 "nbformat_minor": 2
}
